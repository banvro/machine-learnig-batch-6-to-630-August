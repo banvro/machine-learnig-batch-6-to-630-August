{
 "cells": [
  {
   "cell_type": "code",
   "execution_count": null,
   "id": "893cd35e",
   "metadata": {},
   "outputs": [],
   "source": [
    "# Numpy\n",
    "# Pandas\n",
    "\n",
    "# Machine learning:\n",
    "#         1) Supervised Learning\n",
    "#         2) Unsupervised learning\n",
    "#         3) Renforement learning\n",
    "\n",
    "# 1) Supervised Learning: labeled\n",
    "    \n",
    "#     cgpa   |    packge\n",
    "#         a) Regresion\n",
    "#             1) Linner regression\n",
    "#             2) Multilevel Regression\n",
    "#         b) Classification\n",
    "#             1) Binery classification\n",
    "#             2) Multiclass clasification\n",
    "        \n"
   ]
  }
 ],
 "metadata": {
  "kernelspec": {
   "display_name": "Python 3 (ipykernel)",
   "language": "python",
   "name": "python3"
  },
  "language_info": {
   "codemirror_mode": {
    "name": "ipython",
    "version": 3
   },
   "file_extension": ".py",
   "mimetype": "text/x-python",
   "name": "python",
   "nbconvert_exporter": "python",
   "pygments_lexer": "ipython3",
   "version": "3.10.12"
  }
 },
 "nbformat": 4,
 "nbformat_minor": 5
}
